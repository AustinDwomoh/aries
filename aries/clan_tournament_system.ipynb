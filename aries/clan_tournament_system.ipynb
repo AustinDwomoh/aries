{
 "cells": [
  {
   "cell_type": "markdown",
   "id": "36a293cf",
   "metadata": {},
   "source": [
    "# Clan Tournament System (Jupyter Style Overview)"
   ]
  },
  {
   "cell_type": "code",
   "execution_count": null,
   "id": "a511a0f5",
   "metadata": {},
   "outputs": [],
   "source": [
    "from django.db import models\n",
    "from django.contrib.auth.models import User\n",
    "from django.conf import settings\n",
    "import os\n",
    "import json\n",
    "from PIL import Image"
   ]
  },
  {
   "cell_type": "code",
   "execution_count": null,
   "id": "8252b7e0",
   "metadata": {},
   "outputs": [],
   "source": [
    "class Clans(models.Model):\n",
    "    clan_name = models.CharField(max_length=255)\n",
    "    user = models.OneToOneField(User, on_delete=models.CASCADE)\n",
    "\n",
    "    def __str__(self):\n",
    "        return self.clan_name"
   ]
  },
  {
   "cell_type": "code",
   "execution_count": null,
   "id": "03d43335",
   "metadata": {},
   "outputs": [],
   "source": [
    "class ClanTournament(models.Model):\n",
    "    TOUR_CHOICES = [('league', 'League'), ('cup', 'Cup'), ('groups_knockout', 'Groups + Knockout')]\n",
    "    PLAYER_MODE_CHOICES = [('fixed', 'Fixed'), ('dynamic', 'Dynamic')]\n",
    "\n",
    "    name = models.CharField(max_length=255)\n",
    "    description = models.TextField(blank=True, null=True)\n",
    "    created_by = models.ForeignKey(User, on_delete=models.CASCADE)\n",
    "    teams = models.ManyToManyField(Clans, related_name=\"clans\")\n",
    "    logo = models.ImageField(default=\"tours-defualt.jpg\", upload_to='tour_logos')\n",
    "    tour_type = models.CharField(max_length=100, choices=TOUR_CHOICES, blank=True, null=True)\n",
    "    player_mode = models.CharField(max_length=10, choices=PLAYER_MODE_CHOICES, default='dynamic')\n",
    "\n",
    "    def get_json_file_path(self):\n",
    "        directory = os.path.join(settings.MEDIA_ROOT, 'tournament_data')\n",
    "        os.makedirs(directory, exist_ok=True)\n",
    "        return os.path.join(directory, f'tournament_clan_{self.pk}.json')\n",
    "\n",
    "    def load_match_data_from_file(self):\n",
    "        file_path = self.get_json_file_path()\n",
    "        if os.path.exists(file_path) and os.path.getsize(file_path) > 0:\n",
    "            with open(file_path, 'r') as json_file:\n",
    "                try:\n",
    "                    return json.load(json_file)\n",
    "                except json.JSONDecodeError:\n",
    "                    return {}\n",
    "        return {}\n",
    "\n",
    "    def save_match_data_to_file(self, match_data):\n",
    "        with open(self.get_json_file_path(), 'w') as json_file:\n",
    "            json.dump(match_data, json_file)\n",
    "\n",
    "    def delete(self, *args, **kwargs):\n",
    "        file_path = self.get_json_file_path()\n",
    "        if os.path.exists(file_path):\n",
    "            os.remove(file_path)\n",
    "        super().delete(*args, **kwargs)\n",
    "\n",
    "    def toggle_player_mode(self):\n",
    "        self.player_mode = 'fixed' if self.player_mode == 'dynamic' else 'dynamic'\n",
    "        self.save()\n",
    "\n",
    "    def get_team_names(self):\n",
    "        return [team.clan_name for team in self.teams.all()]\n",
    "\n",
    "    def __str__(self):\n",
    "        return self.name"
   ]
  },
  {
   "cell_type": "code",
   "execution_count": null,
   "id": "2257eaf6",
   "metadata": {},
   "outputs": [],
   "source": [
    "class ClanTournamentPlayer(models.Model):\n",
    "    clan = models.ForeignKey(Clans, on_delete=models.CASCADE)\n",
    "    tournament = models.ForeignKey(ClanTournament, on_delete=models.CASCADE)\n",
    "    user = models.ForeignKey(User, on_delete=models.CASCADE)\n",
    "\n",
    "    class Meta:\n",
    "        unique_together = ('clan', 'tournament', 'user')\n",
    "\n",
    "    def __str__(self):\n",
    "        return f\"{self.user.username} in {self.clan.clan_name} - {self.tournament.name}\""
   ]
  },
  {
   "cell_type": "code",
   "execution_count": null,
   "id": "480e1272",
   "metadata": {},
   "outputs": [],
   "source": [
    "from django.http import HttpResponseForbidden\n",
    "from django.shortcuts import get_object_or_404, redirect\n",
    "\n",
    "def assign_user_to_tournament(request, tournament_id, clan_id):\n",
    "    if request.method == \"POST\":\n",
    "        user_id = request.POST.get('user_id')\n",
    "        user = get_object_or_404(User, pk=user_id)\n",
    "        tournament = get_object_or_404(ClanTournament, pk=tournament_id)\n",
    "        clan = get_object_or_404(Clans, pk=clan_id)\n",
    "\n",
    "        if tournament.player_mode == 'fixed':\n",
    "            return HttpResponseForbidden(\"Player assignments are fixed.\")\n",
    "\n",
    "        ClanTournamentPlayer.objects.get_or_create(user=user, clan=clan, tournament=tournament)\n",
    "        return redirect('some-success-page')"
   ]
  },
  {
   "cell_type": "code",
   "execution_count": null,
   "id": "63bf816a",
   "metadata": {},
   "outputs": [],
   "source": [
    "def get_clan_tournament_history(clan_id):\n",
    "    return ClanTournamentPlayer.objects.filter(clan_id=clan_id).select_related(\"tournament\")"
   ]
  },
  {
   "cell_type": "code",
   "execution_count": null,
   "id": "2ab47a9f",
   "metadata": {},
   "outputs": [],
   "source": [
    "from django.db.models.signals import post_save\n",
    "\n",
    "User.add_to_class('is_organizer', models.BooleanField(default=False))\n",
    "\n",
    "def is_organizer(user):\n",
    "    return getattr(user, 'is_organizer', False)"
   ]
  }
 ],
 "metadata": {
  "kernelspec": {
   "display_name": "webguild",
   "language": "python",
   "name": "python3"
  },
  "language_info": {
   "name": "python",
   "version": "3.13.2"
  }
 },
 "nbformat": 4,
 "nbformat_minor": 5
}
